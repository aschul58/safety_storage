{
 "cells": [
  {
   "cell_type": "code",
   "execution_count": null,
   "id": "36cb5dd7",
   "metadata": {},
   "outputs": [],
   "source": [
    "import pandas as pd\n",
    "import statistics\n",
    "#%run config.ipynb\n",
    "import import_ipynb\n",
    "from config import *\n",
    "from data_preparation import *\n",
    "from data_exploration import *\n",
    "from labeling import *\n",
    "from model_training import *\n",
    "from label_exploration import *\n",
    "from model_evaluation import *"
   ]
  },
  {
   "cell_type": "code",
   "execution_count": null,
   "id": "f62308fa",
   "metadata": {},
   "outputs": [],
   "source": [
    "label_data = True\n",
    "train_model = True"
   ]
  },
  {
   "cell_type": "code",
   "execution_count": null,
   "id": "b889818d",
   "metadata": {},
   "outputs": [],
   "source": [
    "def main():\n",
    "    \"\"\"\n",
    "    Main function to execute the script.\n",
    "    \"\"\"\n",
    "\n",
    "    df = load_dataframe_from_csv(args.input_file)\n",
    "    if df is None:\n",
    "        return\n",
    "    \n",
    "    df = calculate_strategy_returns(df, args.time_horizon)\n",
    "\n",
    "    mode = 'a' if args.append else 'w'\n",
    "    save_dataframe_to_csv(df, args.output_file, mode)\n",
    "\n",
    "if __name__ == '__main__':\n",
    "    main()"
   ]
  },
  {
   "cell_type": "code",
   "execution_count": null,
   "id": "8c2a5e66",
   "metadata": {},
   "outputs": [],
   "source": [
    "def main():\n",
    "     \"\"\"\n",
    "    Main function to execute the script.\n",
    "    \"\"\""
   ]
  },
  {
   "cell_type": "code",
   "execution_count": null,
   "id": "50d8b718",
   "metadata": {},
   "outputs": [],
   "source": [
    "'mean_ret': np.mean(rets),\n",
    "        'cum_ret': stats.cum_returns_final,\n",
    "        'max_drawdown': stats.max_drawdown,\n",
    "        'sharpe': stats.sharpe_ratio,\n",
    "        'hit_rate': len([ele for ele in rets if ele > 0]) / len(rets),\n",
    "        'annual_return': annual_return(rets, freq),\n",
    "        'annual_volatility': annual_volatility(rets, freq),\n",
    "        'sortino_ratio': sortino_ratio(rets, freq),\n",
    "    }"
   ]
  }
 ],
 "metadata": {
  "kernelspec": {
   "display_name": "Python 3.8.2 64-bit",
   "language": "python",
   "name": "python382jvsc74a57bd031f2aee4e71d21fbe5cf8b01ff0e069b9275f58929596ceb00d14d90e3e16cd6"
  }
 },
 "nbformat": 4,
 "nbformat_minor": 5
}
