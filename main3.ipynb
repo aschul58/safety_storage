{
 "cells": [
  {
   "cell_type": "code",
   "execution_count": null,
   "id": "c5f3a982",
   "metadata": {},
   "outputs": [],
   "source": [
    "import pandas as pd\n",
    "import statistics\n",
    "#%run config.ipynb\n",
    "import import_ipynb\n",
    "from config import *\n",
    "from data_preparation import *\n",
    "from data_exploration import *\n",
    "from labeling import *\n",
    "from model_training import *\n",
    "from label_exploration import *\n",
    "from model_evaluation import *"
   ]
  },
  {
   "cell_type": "code",
   "execution_count": null,
   "id": "af433c23",
   "metadata": {},
   "outputs": [],
   "source": [
    "## Main methode schreiben um das training zu skippen. Die ganzen ergebnisse sollen immer nach jeweils labeling und training in csv dateien gewschrieben werden"
   ]
  }
 ],
 "metadata": {
  "kernelspec": {
   "display_name": "Python 3.8.2 64-bit",
   "language": "python",
   "name": "python382jvsc74a57bd031f2aee4e71d21fbe5cf8b01ff0e069b9275f58929596ceb00d14d90e3e16cd6"
  }
 },
 "nbformat": 4,
 "nbformat_minor": 5
}
