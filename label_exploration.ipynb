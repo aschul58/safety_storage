{
 "cells": [
  {
   "cell_type": "code",
   "execution_count": 1,
   "id": "0b104bd8",
   "metadata": {},
   "outputs": [],
   "source": [
    "import pandas as pd\n",
    "import seaborn as sns\n",
    "import matplotlib.pyplot as plt\n",
    "import os"
   ]
  },
  {
   "cell_type": "code",
   "execution_count": 2,
   "id": "bf15d39a",
   "metadata": {},
   "outputs": [],
   "source": [
    "# check the distribution of the target variable\n",
    "def print_label_distribution(dictionary):\n",
    "    for currency in dictionary:\n",
    "        print(currency)\n",
    "        print(\"excess over mean\")\n",
    "        print(dictionary[currency][\"excess_over_mean\"].value_counts())\n",
    "        print(\"excess over median\")\n",
    "        print(dictionary[currency][\"excess_over_median\"].value_counts())\n",
    "        print(\"triple Barrier\")\n",
    "        print(dictionary[currency][\"tbm_label\"].value_counts())\n",
    "        print(\"fixed time horizon\")\n",
    "        print(dictionary[currency][\"fth_label\"].value_counts())\n",
    "        print(\"tail sets\")\n",
    "        print(dictionary[currency][\"tail_sets\"].value_counts())\n",
    "        print(\"trend scanning\")\n",
    "        print(dictionary[currency][\"trend\"].value_counts())\n",
    "        print(\"matrix flag\")\n",
    "        print(dictionary[currency][\"matrix_flag\"].value_counts())\n",
    "        print(\"-\"*30)"
   ]
  },
  {
   "cell_type": "code",
   "execution_count": 3,
   "id": "d62e039e",
   "metadata": {},
   "outputs": [],
   "source": [
    "def check_label_distribution(dictionary):\n",
    "    # Initialize an empty DataFrame with columns for each label\n",
    "    df_columns = [-1, 0, 1]\n",
    "    df = pd.DataFrame(index=[\n",
    "        \"excess_over_mean\",\n",
    "        \"excess_over_median\",\n",
    "        \"tbm_label\",\n",
    "        \"fth_label\",\n",
    "        \"tail_sets\",\n",
    "        \"trend\",\n",
    "        \"matrix_flag\"\n",
    "    ], columns=df_columns, dtype=int).fillna(0)\n",
    "\n",
    "    # Iterate through each currency and each labeling method to count the labels\n",
    "    for currency in dictionary:\n",
    "        for method in df.index:\n",
    "            label_counts = dictionary[currency][method].value_counts()\n",
    "            # Ensure all labels (-1, 0, 1) are present in the label_counts\n",
    "            for label in df_columns:\n",
    "                if label in label_counts:\n",
    "                    df.at[method, label] += label_counts[label]\n",
    "\n",
    "    return df"
   ]
  },
  {
   "cell_type": "code",
   "execution_count": 4,
   "id": "2b7289bc",
   "metadata": {},
   "outputs": [],
   "source": [
    "def explore_label_overlap(df, label_columns):\n",
    "    overlaps = pd.DataFrame(index=label_columns, columns=label_columns)\n",
    "    \n",
    "    for col1 in label_columns:\n",
    "        for col2 in label_columns:\n",
    "            overlap_count = sum(df[col1] == df[col2])\n",
    "            overlaps.loc[col1, col2] = overlap_count\n",
    "    \n",
    "    return overlaps.astype(int)\n",
    "\n",
    "def visualize_label_overlap(overlaps_df, currency, save_dir, frequency):\n",
    "    \n",
    "    fig = plt.figure(figsize=(10, 8), facecolor='white')  # Create figure with white background\n",
    "    sns.heatmap(overlaps_df, annot=True, cmap=\"YlGnBu\", fmt=\"d\")\n",
    "    plt.title(f\"Label Overlap Correlation Matrix for {currency}\")\n",
    "    plt.xlabel(\"Columns\")\n",
    "    plt.ylabel(\"Columns\")\n",
    "    ax = plt.gca()\n",
    "    ax.set_xticklabels(['Excess over Mean', 'Excess over Median', 'Fixed time horizon', 'Triple barrier method', 'Trend scanning', 'Tail sets', 'Matrix flag'], rotation=45)\n",
    "    ax.set_yticklabels(['Excess over Mean', 'Excess over Median', 'Fixed time horizon', 'Triple barrier method', 'Trend scanning', 'Tail sets', 'Matrix flag'], rotation=0)\n",
    "    plt.tight_layout()  # Adjust layout to prevent cropping\n",
    "    \n",
    "    if not os.path.exists(save_dir):\n",
    "        os.makedirs(save_dir)\n",
    "    \n",
    "    plt.savefig(f\"{save_dir}/{currency}_label_overlap{currency}.png\", transparent=True)  # Save with transparent background\n",
    "    plt.close(fig)\n",
    "\n",
    "def explore_and_visualize_overlap(dictionary, label_columns, save_dir, frequency):\n",
    "    for currency, df in dictionary.items():\n",
    "        overlaps_df = explore_label_overlap(df, label_columns)\n",
    "        visualize_label_overlap(overlaps_df, currency, save_dir, frequency)"
   ]
  }
 ],
 "metadata": {
  "kernelspec": {
   "display_name": "Python 3.8.8 64-bit ('base': conda)",
   "language": "python",
   "name": "python388jvsc74a57bd04bf90262335278849346a8413120045905705f4a3dcd085e5fd666f68913c85e"
  },
  "language_info": {
   "codemirror_mode": {
    "name": "ipython",
    "version": 3
   },
   "file_extension": ".py",
   "mimetype": "text/x-python",
   "name": "python",
   "nbconvert_exporter": "python",
   "pygments_lexer": "ipython3",
   "version": "3.8.8"
  }
 },
 "nbformat": 4,
 "nbformat_minor": 5
}
