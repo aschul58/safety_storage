{
 "cells": [
  {
   "cell_type": "code",
   "execution_count": 1,
   "id": "3b3f4c50",
   "metadata": {},
   "outputs": [],
   "source": [
    "import pandas as pd"
   ]
  },
  {
   "cell_type": "code",
   "execution_count": 2,
   "id": "d3557507",
   "metadata": {},
   "outputs": [],
   "source": [
    "#Parameters\n",
    "window_in_days = 10\n",
    "delta = pd.Timedelta(days = window_in_days)\n",
    "threshold = 0.001\n",
    "volatility_delta = pd.Timedelta(days = 1)"
   ]
  },
  {
   "cell_type": "code",
   "execution_count": 3,
   "id": "a1a19568",
   "metadata": {},
   "outputs": [],
   "source": [
    "#Paths\n",
    "directory_daily = \"raw_data/daily\"\n",
    "directory_weekly = \"raw_data/weekly\"\n",
    "dump_dictionaries = \"dump_dictionaries\""
   ]
  },
  {
   "cell_type": "code",
   "execution_count": 4,
   "id": "e754e000",
   "metadata": {},
   "outputs": [],
   "source": [
    "#Currencies to be considered\n",
    "valid_currencies = {'Chainlink': 1, \n",
    "                    'Polygon': 2, \n",
    "                    'Curve': 3, \n",
    "                    'Ribbon': 4, \n",
    "                    'Uniswap': 5, \n",
    "                    'Dydx': 6, \n",
    "                    'Aave': 7, \n",
    "                    'Lido': 8, \n",
    "                    'Ethereum': 9, \n",
    "                    'Bitcoin': 10, \n",
    "                    'SHIB': 11, \n",
    "                    'Pepe': 12}"
   ]
  },
  {
   "cell_type": "code",
   "execution_count": 5,
   "id": "cf3e885b",
   "metadata": {},
   "outputs": [],
   "source": [
    "#Training features to be considered\n",
    "train_feature_list = [\n",
    "        'Price',\n",
    "        'Daily Active Addresses',\n",
    "        'Price Volatility 1w',\n",
    "        'RSI 1d',\n",
    "        'Exchange Flow Balance',\n",
    "        'Percent of Stablecoin Total Supply held by Whales with more than 5 million USD',\n",
    "        'Whale Transaction Count (>1m USD)',\n",
    "        'Age Consumed',\n",
    "        'Circulation (90d)',\n",
    "        'The Ratio of Daily On-Chain Transaction Volume in Profit to Loss',\n",
    "        'Mean Coin Age',\n",
    "        'Mean Dollar Invested Age',\n",
    "        'MVRV Long/Short Difference',\n",
    "        'MVRV Ratio (Z score)',\n",
    "        'Percent of Total Supply in Profit',\n",
    "        'currency'\n",
    "    ]"
   ]
  },
  {
   "cell_type": "code",
   "execution_count": 6,
   "id": "38d2bbb3",
   "metadata": {},
   "outputs": [],
   "source": [
    "label_columns = [\n",
    "    \"excess_over_mean\",\n",
    "    \"excess_over_median\",\n",
    "    \"fth_label\",\n",
    "    \"tbm_label\",\n",
    "    \"trend\",\n",
    "    \"tail_sets\",\n",
    "    \"matrix_flag\"    \n",
    "]"
   ]
  }
 ],
 "metadata": {
  "kernelspec": {
   "display_name": "Python 3.8.8 64-bit ('base': conda)",
   "language": "python",
   "name": "python388jvsc74a57bd04bf90262335278849346a8413120045905705f4a3dcd085e5fd666f68913c85e"
  },
  "language_info": {
   "codemirror_mode": {
    "name": "ipython",
    "version": 3
   },
   "file_extension": ".py",
   "mimetype": "text/x-python",
   "name": "python",
   "nbconvert_exporter": "python",
   "pygments_lexer": "ipython3",
   "version": "3.8.8"
  }
 },
 "nbformat": 4,
 "nbformat_minor": 5
}
