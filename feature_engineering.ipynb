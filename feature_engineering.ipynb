{
 "cells": [
  {
   "cell_type": "code",
   "execution_count": 1,
   "id": "52c42d60",
   "metadata": {},
   "outputs": [],
   "source": [
    "def add_features(dictionary):\n",
    "    # Calculate Bitcoin and Ethereum percentage change over the last 5 periods\n",
    "    bitcoin_df = dictionary['Bitcoin']\n",
    "    bitcoin_df['Bitcoin_orientation'] = bitcoin_df['Price'].pct_change(periods=5)\n",
    "    \n",
    "    ethereum_df = dictionary['Ethereum']\n",
    "    ethereum_df['Ethereum_orientation'] = ethereum_df['Price'].pct_change(periods=5)\n",
    "\n",
    "    # Add Bitcoin_orientation, Ethereum_orientation, Previous_period_change, and Volatility to each cryptocurrency data frame\n",
    "    for currency, df in dictionary.items():\n",
    "        df['Previous_period_change'] = df['Price'].pct_change(periods=1)\n",
    "        df['Bitcoin_orientation'] = bitcoin_df['Bitcoin_orientation']\n",
    "        df['Ethereum_orientation'] = ethereum_df['Ethereum_orientation']\n",
    "        df['Volatility'] = df['Price'].pct_change().rolling(window=5).std()\n",
    "    \n",
    "    return dictionary\n"
   ]
  },
  {
   "cell_type": "code",
   "execution_count": null,
   "id": "e781f129",
   "metadata": {},
   "outputs": [],
   "source": []
  }
 ],
 "metadata": {
  "kernelspec": {
   "display_name": "Python 3",
   "language": "python",
   "name": "python3"
  },
  "language_info": {
   "codemirror_mode": {
    "name": "ipython",
    "version": 3
   },
   "file_extension": ".py",
   "mimetype": "text/x-python",
   "name": "python",
   "nbconvert_exporter": "python",
   "pygments_lexer": "ipython3",
   "version": "3.8.8"
  }
 },
 "nbformat": 4,
 "nbformat_minor": 5
}
